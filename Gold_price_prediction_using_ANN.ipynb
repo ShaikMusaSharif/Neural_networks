{
  "nbformat": 4,
  "nbformat_minor": 0,
  "metadata": {
    "colab": {
      "provenance": [],
      "mount_file_id": "1f_BFLeLuHbhjRllLRMwWKIe4As48DuNx",
      "authorship_tag": "ABX9TyMMIEHfJdfx4Uxl5gjtsU+E",
      "include_colab_link": true
    },
    "kernelspec": {
      "name": "python3",
      "display_name": "Python 3"
    },
    "language_info": {
      "name": "python"
    }
  },
  "cells": [
    {
      "cell_type": "markdown",
      "metadata": {
        "id": "view-in-github",
        "colab_type": "text"
      },
      "source": [
        "<a href=\"https://colab.research.google.com/github/ShaikMusaSharif/Neural_networks/blob/main/Gold_price_prediction_using_ANN.ipynb\" target=\"_parent\"><img src=\"https://colab.research.google.com/assets/colab-badge.svg\" alt=\"Open In Colab\"/></a>"
      ]
    },
    {
      "cell_type": "code",
      "execution_count": 27,
      "metadata": {
        "id": "iTDQYJn8bV8D"
      },
      "outputs": [],
      "source": [
        "import pandas as pd\n",
        "import numpy as np\n",
        "from sklearn.model_selection import train_test_split\n",
        "from sklearn.preprocessing import StandardScaler\n",
        "from sklearn.preprocessing import MinMaxScaler"
      ]
    },
    {
      "cell_type": "code",
      "source": [
        "import tensorflow as tf\n",
        "from tensorflow import keras\n",
        "from tensorflow.keras import Sequential\n",
        "from tensorflow.keras.layers import Dense"
      ],
      "metadata": {
        "id": "pSHVwTbJbqXl"
      },
      "execution_count": 28,
      "outputs": []
    },
    {
      "cell_type": "code",
      "source": [
        "df = pd.read_csv(\"/content/gld_price_data.csv\")"
      ],
      "metadata": {
        "id": "B5YjFhj0bqaF"
      },
      "execution_count": 29,
      "outputs": []
    },
    {
      "cell_type": "code",
      "source": [
        "df.head()"
      ],
      "metadata": {
        "colab": {
          "base_uri": "https://localhost:8080/",
          "height": 206
        },
        "id": "eCr_woZ2bqcU",
        "outputId": "2d9f49d9-0993-482e-a2c3-a0cd779e962e"
      },
      "execution_count": 30,
      "outputs": [
        {
          "output_type": "execute_result",
          "data": {
            "text/plain": [
              "       Date          SPX        GLD        USO     SLV   EUR/USD\n",
              "0  01/02/08  1447.160034  84.860001  78.470001  15.180  1.471692\n",
              "1  01/03/08  1447.160034  85.570000  78.370003  15.285  1.474491\n",
              "2  01/04/08  1411.630005  85.129997  77.309998  15.167  1.475492\n",
              "3  01/07/08  1416.180054  84.769997  75.500000  15.053  1.468299\n",
              "4  01/08/08  1390.189941  86.779999  76.059998  15.590  1.557099"
            ],
            "text/html": [
              "\n",
              "  <div id=\"df-dfd0529a-7323-4cc3-9b3d-f5cac94d931f\" class=\"colab-df-container\">\n",
              "    <div>\n",
              "<style scoped>\n",
              "    .dataframe tbody tr th:only-of-type {\n",
              "        vertical-align: middle;\n",
              "    }\n",
              "\n",
              "    .dataframe tbody tr th {\n",
              "        vertical-align: top;\n",
              "    }\n",
              "\n",
              "    .dataframe thead th {\n",
              "        text-align: right;\n",
              "    }\n",
              "</style>\n",
              "<table border=\"1\" class=\"dataframe\">\n",
              "  <thead>\n",
              "    <tr style=\"text-align: right;\">\n",
              "      <th></th>\n",
              "      <th>Date</th>\n",
              "      <th>SPX</th>\n",
              "      <th>GLD</th>\n",
              "      <th>USO</th>\n",
              "      <th>SLV</th>\n",
              "      <th>EUR/USD</th>\n",
              "    </tr>\n",
              "  </thead>\n",
              "  <tbody>\n",
              "    <tr>\n",
              "      <th>0</th>\n",
              "      <td>01/02/08</td>\n",
              "      <td>1447.160034</td>\n",
              "      <td>84.860001</td>\n",
              "      <td>78.470001</td>\n",
              "      <td>15.180</td>\n",
              "      <td>1.471692</td>\n",
              "    </tr>\n",
              "    <tr>\n",
              "      <th>1</th>\n",
              "      <td>01/03/08</td>\n",
              "      <td>1447.160034</td>\n",
              "      <td>85.570000</td>\n",
              "      <td>78.370003</td>\n",
              "      <td>15.285</td>\n",
              "      <td>1.474491</td>\n",
              "    </tr>\n",
              "    <tr>\n",
              "      <th>2</th>\n",
              "      <td>01/04/08</td>\n",
              "      <td>1411.630005</td>\n",
              "      <td>85.129997</td>\n",
              "      <td>77.309998</td>\n",
              "      <td>15.167</td>\n",
              "      <td>1.475492</td>\n",
              "    </tr>\n",
              "    <tr>\n",
              "      <th>3</th>\n",
              "      <td>01/07/08</td>\n",
              "      <td>1416.180054</td>\n",
              "      <td>84.769997</td>\n",
              "      <td>75.500000</td>\n",
              "      <td>15.053</td>\n",
              "      <td>1.468299</td>\n",
              "    </tr>\n",
              "    <tr>\n",
              "      <th>4</th>\n",
              "      <td>01/08/08</td>\n",
              "      <td>1390.189941</td>\n",
              "      <td>86.779999</td>\n",
              "      <td>76.059998</td>\n",
              "      <td>15.590</td>\n",
              "      <td>1.557099</td>\n",
              "    </tr>\n",
              "  </tbody>\n",
              "</table>\n",
              "</div>\n",
              "    <div class=\"colab-df-buttons\">\n",
              "\n",
              "  <div class=\"colab-df-container\">\n",
              "    <button class=\"colab-df-convert\" onclick=\"convertToInteractive('df-dfd0529a-7323-4cc3-9b3d-f5cac94d931f')\"\n",
              "            title=\"Convert this dataframe to an interactive table.\"\n",
              "            style=\"display:none;\">\n",
              "\n",
              "  <svg xmlns=\"http://www.w3.org/2000/svg\" height=\"24px\" viewBox=\"0 -960 960 960\">\n",
              "    <path d=\"M120-120v-720h720v720H120Zm60-500h600v-160H180v160Zm220 220h160v-160H400v160Zm0 220h160v-160H400v160ZM180-400h160v-160H180v160Zm440 0h160v-160H620v160ZM180-180h160v-160H180v160Zm440 0h160v-160H620v160Z\"/>\n",
              "  </svg>\n",
              "    </button>\n",
              "\n",
              "  <style>\n",
              "    .colab-df-container {\n",
              "      display:flex;\n",
              "      gap: 12px;\n",
              "    }\n",
              "\n",
              "    .colab-df-convert {\n",
              "      background-color: #E8F0FE;\n",
              "      border: none;\n",
              "      border-radius: 50%;\n",
              "      cursor: pointer;\n",
              "      display: none;\n",
              "      fill: #1967D2;\n",
              "      height: 32px;\n",
              "      padding: 0 0 0 0;\n",
              "      width: 32px;\n",
              "    }\n",
              "\n",
              "    .colab-df-convert:hover {\n",
              "      background-color: #E2EBFA;\n",
              "      box-shadow: 0px 1px 2px rgba(60, 64, 67, 0.3), 0px 1px 3px 1px rgba(60, 64, 67, 0.15);\n",
              "      fill: #174EA6;\n",
              "    }\n",
              "\n",
              "    .colab-df-buttons div {\n",
              "      margin-bottom: 4px;\n",
              "    }\n",
              "\n",
              "    [theme=dark] .colab-df-convert {\n",
              "      background-color: #3B4455;\n",
              "      fill: #D2E3FC;\n",
              "    }\n",
              "\n",
              "    [theme=dark] .colab-df-convert:hover {\n",
              "      background-color: #434B5C;\n",
              "      box-shadow: 0px 1px 3px 1px rgba(0, 0, 0, 0.15);\n",
              "      filter: drop-shadow(0px 1px 2px rgba(0, 0, 0, 0.3));\n",
              "      fill: #FFFFFF;\n",
              "    }\n",
              "  </style>\n",
              "\n",
              "    <script>\n",
              "      const buttonEl =\n",
              "        document.querySelector('#df-dfd0529a-7323-4cc3-9b3d-f5cac94d931f button.colab-df-convert');\n",
              "      buttonEl.style.display =\n",
              "        google.colab.kernel.accessAllowed ? 'block' : 'none';\n",
              "\n",
              "      async function convertToInteractive(key) {\n",
              "        const element = document.querySelector('#df-dfd0529a-7323-4cc3-9b3d-f5cac94d931f');\n",
              "        const dataTable =\n",
              "          await google.colab.kernel.invokeFunction('convertToInteractive',\n",
              "                                                    [key], {});\n",
              "        if (!dataTable) return;\n",
              "\n",
              "        const docLinkHtml = 'Like what you see? Visit the ' +\n",
              "          '<a target=\"_blank\" href=https://colab.research.google.com/notebooks/data_table.ipynb>data table notebook</a>'\n",
              "          + ' to learn more about interactive tables.';\n",
              "        element.innerHTML = '';\n",
              "        dataTable['output_type'] = 'display_data';\n",
              "        await google.colab.output.renderOutput(dataTable, element);\n",
              "        const docLink = document.createElement('div');\n",
              "        docLink.innerHTML = docLinkHtml;\n",
              "        element.appendChild(docLink);\n",
              "      }\n",
              "    </script>\n",
              "  </div>\n",
              "\n",
              "\n",
              "<div id=\"df-e01ae705-03c5-4683-82d1-33906859b215\">\n",
              "  <button class=\"colab-df-quickchart\" onclick=\"quickchart('df-e01ae705-03c5-4683-82d1-33906859b215')\"\n",
              "            title=\"Suggest charts\"\n",
              "            style=\"display:none;\">\n",
              "\n",
              "<svg xmlns=\"http://www.w3.org/2000/svg\" height=\"24px\"viewBox=\"0 0 24 24\"\n",
              "     width=\"24px\">\n",
              "    <g>\n",
              "        <path d=\"M19 3H5c-1.1 0-2 .9-2 2v14c0 1.1.9 2 2 2h14c1.1 0 2-.9 2-2V5c0-1.1-.9-2-2-2zM9 17H7v-7h2v7zm4 0h-2V7h2v10zm4 0h-2v-4h2v4z\"/>\n",
              "    </g>\n",
              "</svg>\n",
              "  </button>\n",
              "\n",
              "<style>\n",
              "  .colab-df-quickchart {\n",
              "      --bg-color: #E8F0FE;\n",
              "      --fill-color: #1967D2;\n",
              "      --hover-bg-color: #E2EBFA;\n",
              "      --hover-fill-color: #174EA6;\n",
              "      --disabled-fill-color: #AAA;\n",
              "      --disabled-bg-color: #DDD;\n",
              "  }\n",
              "\n",
              "  [theme=dark] .colab-df-quickchart {\n",
              "      --bg-color: #3B4455;\n",
              "      --fill-color: #D2E3FC;\n",
              "      --hover-bg-color: #434B5C;\n",
              "      --hover-fill-color: #FFFFFF;\n",
              "      --disabled-bg-color: #3B4455;\n",
              "      --disabled-fill-color: #666;\n",
              "  }\n",
              "\n",
              "  .colab-df-quickchart {\n",
              "    background-color: var(--bg-color);\n",
              "    border: none;\n",
              "    border-radius: 50%;\n",
              "    cursor: pointer;\n",
              "    display: none;\n",
              "    fill: var(--fill-color);\n",
              "    height: 32px;\n",
              "    padding: 0;\n",
              "    width: 32px;\n",
              "  }\n",
              "\n",
              "  .colab-df-quickchart:hover {\n",
              "    background-color: var(--hover-bg-color);\n",
              "    box-shadow: 0 1px 2px rgba(60, 64, 67, 0.3), 0 1px 3px 1px rgba(60, 64, 67, 0.15);\n",
              "    fill: var(--button-hover-fill-color);\n",
              "  }\n",
              "\n",
              "  .colab-df-quickchart-complete:disabled,\n",
              "  .colab-df-quickchart-complete:disabled:hover {\n",
              "    background-color: var(--disabled-bg-color);\n",
              "    fill: var(--disabled-fill-color);\n",
              "    box-shadow: none;\n",
              "  }\n",
              "\n",
              "  .colab-df-spinner {\n",
              "    border: 2px solid var(--fill-color);\n",
              "    border-color: transparent;\n",
              "    border-bottom-color: var(--fill-color);\n",
              "    animation:\n",
              "      spin 1s steps(1) infinite;\n",
              "  }\n",
              "\n",
              "  @keyframes spin {\n",
              "    0% {\n",
              "      border-color: transparent;\n",
              "      border-bottom-color: var(--fill-color);\n",
              "      border-left-color: var(--fill-color);\n",
              "    }\n",
              "    20% {\n",
              "      border-color: transparent;\n",
              "      border-left-color: var(--fill-color);\n",
              "      border-top-color: var(--fill-color);\n",
              "    }\n",
              "    30% {\n",
              "      border-color: transparent;\n",
              "      border-left-color: var(--fill-color);\n",
              "      border-top-color: var(--fill-color);\n",
              "      border-right-color: var(--fill-color);\n",
              "    }\n",
              "    40% {\n",
              "      border-color: transparent;\n",
              "      border-right-color: var(--fill-color);\n",
              "      border-top-color: var(--fill-color);\n",
              "    }\n",
              "    60% {\n",
              "      border-color: transparent;\n",
              "      border-right-color: var(--fill-color);\n",
              "    }\n",
              "    80% {\n",
              "      border-color: transparent;\n",
              "      border-right-color: var(--fill-color);\n",
              "      border-bottom-color: var(--fill-color);\n",
              "    }\n",
              "    90% {\n",
              "      border-color: transparent;\n",
              "      border-bottom-color: var(--fill-color);\n",
              "    }\n",
              "  }\n",
              "</style>\n",
              "\n",
              "  <script>\n",
              "    async function quickchart(key) {\n",
              "      const quickchartButtonEl =\n",
              "        document.querySelector('#' + key + ' button');\n",
              "      quickchartButtonEl.disabled = true;  // To prevent multiple clicks.\n",
              "      quickchartButtonEl.classList.add('colab-df-spinner');\n",
              "      try {\n",
              "        const charts = await google.colab.kernel.invokeFunction(\n",
              "            'suggestCharts', [key], {});\n",
              "      } catch (error) {\n",
              "        console.error('Error during call to suggestCharts:', error);\n",
              "      }\n",
              "      quickchartButtonEl.classList.remove('colab-df-spinner');\n",
              "      quickchartButtonEl.classList.add('colab-df-quickchart-complete');\n",
              "    }\n",
              "    (() => {\n",
              "      let quickchartButtonEl =\n",
              "        document.querySelector('#df-e01ae705-03c5-4683-82d1-33906859b215 button');\n",
              "      quickchartButtonEl.style.display =\n",
              "        google.colab.kernel.accessAllowed ? 'block' : 'none';\n",
              "    })();\n",
              "  </script>\n",
              "</div>\n",
              "\n",
              "    </div>\n",
              "  </div>\n"
            ],
            "application/vnd.google.colaboratory.intrinsic+json": {
              "type": "dataframe",
              "variable_name": "df",
              "summary": "{\n  \"name\": \"df\",\n  \"rows\": 2290,\n  \"fields\": [\n    {\n      \"column\": \"Date\",\n      \"properties\": {\n        \"dtype\": \"object\",\n        \"num_unique_values\": 2290,\n        \"samples\": [\n          \"11/24/2017\",\n          \"10/24/2013\",\n          \"10/21/2013\"\n        ],\n        \"semantic_type\": \"\",\n        \"description\": \"\"\n      }\n    },\n    {\n      \"column\": \"SPX\",\n      \"properties\": {\n        \"dtype\": \"number\",\n        \"std\": 519.1115402032954,\n        \"min\": 676.530029,\n        \"max\": 2872.870117,\n        \"num_unique_values\": 2277,\n        \"samples\": [\n          1339.219971,\n          1137.140015,\n          1325.76001\n        ],\n        \"semantic_type\": \"\",\n        \"description\": \"\"\n      }\n    },\n    {\n      \"column\": \"GLD\",\n      \"properties\": {\n        \"dtype\": \"number\",\n        \"std\": 23.28334574711753,\n        \"min\": 70.0,\n        \"max\": 184.589996,\n        \"num_unique_values\": 1930,\n        \"samples\": [\n          118.279999,\n          120.099998,\n          120.32\n        ],\n        \"semantic_type\": \"\",\n        \"description\": \"\"\n      }\n    },\n    {\n      \"column\": \"USO\",\n      \"properties\": {\n        \"dtype\": \"number\",\n        \"std\": 19.523517029775018,\n        \"min\": 7.96,\n        \"max\": 117.480003,\n        \"num_unique_values\": 1514,\n        \"samples\": [\n          82.290001,\n          53.84,\n          13.22\n        ],\n        \"semantic_type\": \"\",\n        \"description\": \"\"\n      }\n    },\n    {\n      \"column\": \"SLV\",\n      \"properties\": {\n        \"dtype\": \"number\",\n        \"std\": 7.092566374075398,\n        \"min\": 8.85,\n        \"max\": 47.259998,\n        \"num_unique_values\": 1331,\n        \"samples\": [\n          22.889999,\n          14.92,\n          13.37\n        ],\n        \"semantic_type\": \"\",\n        \"description\": \"\"\n      }\n    },\n    {\n      \"column\": \"EUR/USD\",\n      \"properties\": {\n        \"dtype\": \"number\",\n        \"std\": 0.13154721612113973,\n        \"min\": 1.039047,\n        \"max\": 1.598798,\n        \"num_unique_values\": 2066,\n        \"samples\": [\n          1.094355,\n          1.185986,\n          1.248003\n        ],\n        \"semantic_type\": \"\",\n        \"description\": \"\"\n      }\n    }\n  ]\n}"
            }
          },
          "metadata": {},
          "execution_count": 30
        }
      ]
    },
    {
      "cell_type": "code",
      "source": [
        "x = df[[\"SPX\",\"USO\",\"SLV\",\"EUR/USD\"]]\n",
        "y = df[\"GLD\"]"
      ],
      "metadata": {
        "id": "6TBmGNMDbqf1"
      },
      "execution_count": 31,
      "outputs": []
    },
    {
      "cell_type": "code",
      "source": [
        "x_train,x_test,y_train,y_test = train_test_split(x,y,test_size=0.2)"
      ],
      "metadata": {
        "id": "gNwLWp69eFYG"
      },
      "execution_count": 32,
      "outputs": []
    },
    {
      "cell_type": "code",
      "source": [
        "scaler = MinMaxScaler()"
      ],
      "metadata": {
        "id": "XS56bN2qeFan"
      },
      "execution_count": 33,
      "outputs": []
    },
    {
      "cell_type": "code",
      "source": [
        "x_train_scaled = scaler.fit_transform(x_train)\n",
        "x_test_scaled = scaler.transform(x_test)"
      ],
      "metadata": {
        "id": "e4xf23oCeFdD"
      },
      "execution_count": 34,
      "outputs": []
    },
    {
      "cell_type": "code",
      "source": [
        "model = Sequential()"
      ],
      "metadata": {
        "id": "j7CEKpS5eFfU"
      },
      "execution_count": 35,
      "outputs": []
    },
    {
      "cell_type": "code",
      "source": [
        "model.add(Dense(10,activation=\"relu\",input_dim=4))\n",
        "model.add(Dense(10,activation=\"relu\"))\n",
        "model.add(Dense(1,activation=\"linear\"))"
      ],
      "metadata": {
        "id": "2TGrLoureFiu"
      },
      "execution_count": 36,
      "outputs": []
    },
    {
      "cell_type": "code",
      "source": [
        "model.compile(loss=\"mean_squared_error\",optimizer=\"Adam\")"
      ],
      "metadata": {
        "id": "p_GnwPbzfP3K"
      },
      "execution_count": 37,
      "outputs": []
    },
    {
      "cell_type": "code",
      "source": [
        "history = model.fit(x_train_scaled,y_train,epochs=50,validation_split=0.1)"
      ],
      "metadata": {
        "colab": {
          "base_uri": "https://localhost:8080/"
        },
        "id": "qxrjdaexfP5k",
        "outputId": "2af8be7a-620c-4025-9abd-ac752ba1b4ea"
      },
      "execution_count": 38,
      "outputs": [
        {
          "output_type": "stream",
          "name": "stdout",
          "text": [
            "Epoch 1/50\n",
            "52/52 [==============================] - 2s 12ms/step - loss: 15630.9844 - val_loss: 15781.3496\n",
            "Epoch 2/50\n",
            "52/52 [==============================] - 0s 7ms/step - loss: 15506.3262 - val_loss: 15612.3477\n",
            "Epoch 3/50\n",
            "52/52 [==============================] - 0s 8ms/step - loss: 15262.9150 - val_loss: 15252.9072\n",
            "Epoch 4/50\n",
            "52/52 [==============================] - 0s 6ms/step - loss: 14766.6035 - val_loss: 14576.2715\n",
            "Epoch 5/50\n",
            "52/52 [==============================] - 0s 6ms/step - loss: 13924.9600 - val_loss: 13520.1377\n",
            "Epoch 6/50\n",
            "52/52 [==============================] - 1s 10ms/step - loss: 12703.1836 - val_loss: 12067.1602\n",
            "Epoch 7/50\n",
            "52/52 [==============================] - 0s 8ms/step - loss: 11089.1562 - val_loss: 10197.4004\n",
            "Epoch 8/50\n",
            "52/52 [==============================] - 1s 11ms/step - loss: 9067.6045 - val_loss: 7982.3193\n",
            "Epoch 9/50\n",
            "52/52 [==============================] - 0s 9ms/step - loss: 6851.0781 - val_loss: 5724.7256\n",
            "Epoch 10/50\n",
            "52/52 [==============================] - 0s 5ms/step - loss: 4730.9390 - val_loss: 3726.1392\n",
            "Epoch 11/50\n",
            "52/52 [==============================] - 0s 7ms/step - loss: 2980.4758 - val_loss: 2198.4185\n",
            "Epoch 12/50\n",
            "52/52 [==============================] - 0s 5ms/step - loss: 1747.7642 - val_loss: 1257.0400\n",
            "Epoch 13/50\n",
            "52/52 [==============================] - 0s 5ms/step - loss: 1033.1483 - val_loss: 764.0663\n",
            "Epoch 14/50\n",
            "52/52 [==============================] - 0s 8ms/step - loss: 690.6097 - val_loss: 563.4214\n",
            "Epoch 15/50\n",
            "52/52 [==============================] - 0s 8ms/step - loss: 558.2419 - val_loss: 497.0712\n",
            "Epoch 16/50\n",
            "52/52 [==============================] - 1s 11ms/step - loss: 509.0888 - val_loss: 473.4346\n",
            "Epoch 17/50\n",
            "52/52 [==============================] - 1s 12ms/step - loss: 489.8792 - val_loss: 462.0253\n",
            "Epoch 18/50\n",
            "52/52 [==============================] - 0s 9ms/step - loss: 477.8097 - val_loss: 452.8555\n",
            "Epoch 19/50\n",
            "52/52 [==============================] - 1s 12ms/step - loss: 467.2535 - val_loss: 443.4906\n",
            "Epoch 20/50\n",
            "52/52 [==============================] - 1s 13ms/step - loss: 456.9946 - val_loss: 434.1516\n",
            "Epoch 21/50\n",
            "52/52 [==============================] - 1s 12ms/step - loss: 446.8279 - val_loss: 425.2263\n",
            "Epoch 22/50\n",
            "52/52 [==============================] - 1s 10ms/step - loss: 436.9618 - val_loss: 415.2146\n",
            "Epoch 23/50\n",
            "52/52 [==============================] - 1s 14ms/step - loss: 426.9965 - val_loss: 406.1946\n",
            "Epoch 24/50\n",
            "52/52 [==============================] - 1s 14ms/step - loss: 417.2603 - val_loss: 396.8042\n",
            "Epoch 25/50\n",
            "52/52 [==============================] - 1s 11ms/step - loss: 407.2591 - val_loss: 388.0829\n",
            "Epoch 26/50\n",
            "52/52 [==============================] - 0s 6ms/step - loss: 397.7759 - val_loss: 379.0087\n",
            "Epoch 27/50\n",
            "52/52 [==============================] - 0s 5ms/step - loss: 388.5868 - val_loss: 370.0867\n",
            "Epoch 28/50\n",
            "52/52 [==============================] - 1s 11ms/step - loss: 379.0700 - val_loss: 361.3790\n",
            "Epoch 29/50\n",
            "52/52 [==============================] - 0s 5ms/step - loss: 369.8409 - val_loss: 352.6850\n",
            "Epoch 30/50\n",
            "52/52 [==============================] - 0s 3ms/step - loss: 360.7163 - val_loss: 344.5616\n",
            "Epoch 31/50\n",
            "52/52 [==============================] - 0s 3ms/step - loss: 352.0372 - val_loss: 335.8629\n",
            "Epoch 32/50\n",
            "52/52 [==============================] - 0s 4ms/step - loss: 343.3532 - val_loss: 327.9944\n",
            "Epoch 33/50\n",
            "52/52 [==============================] - 0s 3ms/step - loss: 334.5605 - val_loss: 319.6358\n",
            "Epoch 34/50\n",
            "52/52 [==============================] - 0s 3ms/step - loss: 326.0664 - val_loss: 311.9602\n",
            "Epoch 35/50\n",
            "52/52 [==============================] - 0s 3ms/step - loss: 317.7678 - val_loss: 303.9023\n",
            "Epoch 36/50\n",
            "52/52 [==============================] - 0s 3ms/step - loss: 309.6081 - val_loss: 296.9367\n",
            "Epoch 37/50\n",
            "52/52 [==============================] - 0s 3ms/step - loss: 301.3563 - val_loss: 289.2028\n",
            "Epoch 38/50\n",
            "52/52 [==============================] - 0s 4ms/step - loss: 293.4235 - val_loss: 281.4785\n",
            "Epoch 39/50\n",
            "52/52 [==============================] - 0s 3ms/step - loss: 285.6201 - val_loss: 274.5964\n",
            "Epoch 40/50\n",
            "52/52 [==============================] - 0s 3ms/step - loss: 277.9409 - val_loss: 267.6324\n",
            "Epoch 41/50\n",
            "52/52 [==============================] - 0s 3ms/step - loss: 270.3409 - val_loss: 260.5708\n",
            "Epoch 42/50\n",
            "52/52 [==============================] - 0s 3ms/step - loss: 263.1138 - val_loss: 253.5545\n",
            "Epoch 43/50\n",
            "52/52 [==============================] - 0s 3ms/step - loss: 255.5397 - val_loss: 247.3898\n",
            "Epoch 44/50\n",
            "52/52 [==============================] - 0s 4ms/step - loss: 248.3773 - val_loss: 240.5710\n",
            "Epoch 45/50\n",
            "52/52 [==============================] - 0s 3ms/step - loss: 241.1559 - val_loss: 233.8594\n",
            "Epoch 46/50\n",
            "52/52 [==============================] - 0s 3ms/step - loss: 234.2530 - val_loss: 227.4122\n",
            "Epoch 47/50\n",
            "52/52 [==============================] - 0s 3ms/step - loss: 227.3352 - val_loss: 221.3256\n",
            "Epoch 48/50\n",
            "52/52 [==============================] - 0s 3ms/step - loss: 220.6584 - val_loss: 215.2170\n",
            "Epoch 49/50\n",
            "52/52 [==============================] - 0s 3ms/step - loss: 214.0236 - val_loss: 209.7426\n",
            "Epoch 50/50\n",
            "52/52 [==============================] - 0s 3ms/step - loss: 207.6170 - val_loss: 204.0349\n"
          ]
        }
      ]
    },
    {
      "cell_type": "code",
      "source": [
        "y_pred = model.predict(x_test_scaled)"
      ],
      "metadata": {
        "colab": {
          "base_uri": "https://localhost:8080/"
        },
        "id": "E8KvZ7dtfP9C",
        "outputId": "994d4b70-4871-44ad-8d84-8ba13b1179ac"
      },
      "execution_count": 39,
      "outputs": [
        {
          "output_type": "stream",
          "name": "stdout",
          "text": [
            "15/15 [==============================] - 0s 2ms/step\n"
          ]
        }
      ]
    },
    {
      "cell_type": "code",
      "source": [
        "from sklearn.metrics import r2_score"
      ],
      "metadata": {
        "id": "AP7UPVEogg0V"
      },
      "execution_count": 40,
      "outputs": []
    },
    {
      "cell_type": "code",
      "source": [
        "r2_score(y_test,y_pred)"
      ],
      "metadata": {
        "colab": {
          "base_uri": "https://localhost:8080/"
        },
        "id": "rFsrdyDTgg23",
        "outputId": "1da26954-64c8-4ecf-b1e0-9c8c694a3040"
      },
      "execution_count": 41,
      "outputs": [
        {
          "output_type": "execute_result",
          "data": {
            "text/plain": [
              "0.6497935813952009"
            ]
          },
          "metadata": {},
          "execution_count": 41
        }
      ]
    },
    {
      "cell_type": "code",
      "source": [],
      "metadata": {
        "id": "d0zYyZ9Wgg6X"
      },
      "execution_count": 41,
      "outputs": []
    }
  ]
}